{
 "cells": [
  {
   "cell_type": "code",
   "execution_count": null,
   "metadata": {
    "scrolled": true
   },
   "outputs": [],
   "source": [
    "from __future__ import print_function \n",
    "from __future__ import division\n",
    "\n",
    "from dataloader import RetinopathyLoader\n",
    "from torch.utils import data\n",
    "from ResNet import *\n",
    "from run_model import *\n",
    "\n",
    "\n",
    "import torch\n",
    "import torch.nn as nn\n",
    "import torch.optim as optim\n",
    "import time\n",
    "import os\n",
    "import copy\n",
    "import pandas as pd\n",
    "import numpy as np\n",
    "import matplotlib.pyplot as plt\n",
    "import torchvision\n",
    "from torchvision import datasets, models, transforms\n",
    "from collections import OrderedDict\n",
    "from PIL import Image\n",
    "print(\"PyTorch Version: \",torch.__version__)\n",
    "print(\"Torchvision Version: \",torchvision.__version__)"
   ]
  },
  {
   "cell_type": "code",
   "execution_count": null,
   "metadata": {
    "scrolled": true
   },
   "outputs": [],
   "source": [
    "# Batch size for training (change depending on how much memory you have)\n",
    "batch_size = 4\n",
    "\n",
    "train_set = RetinopathyLoader(root='./data/',mode='train')\n",
    "train_loader = data.DataLoader(dataset=train_set,batch_size=batch_size)\n",
    "test_set = RetinopathyLoader(root='./data/',mode='test')\n",
    "test_loader = data.DataLoader(dataset=test_set,batch_size=batch_size)\n",
    "\n",
    "dataloaders_dict = {'train':train_loader,\n",
    "                    'val' : test_loader}"
   ]
  },
  {
   "cell_type": "code",
   "execution_count": null,
   "metadata": {
    "scrolled": true
   },
   "outputs": [],
   "source": [
    "device = torch.device(\"cuda:0\" if torch.cuda.is_available() else \"cpu\")"
   ]
  },
  {
   "cell_type": "code",
   "execution_count": null,
   "metadata": {
    "scrolled": true
   },
   "outputs": [],
   "source": [
    "# Number of classes in the dataset\n",
    "num_classes = 5\n",
    "\n",
    "# Number of epochs to train for \n",
    "num_epochs_18 = 10\n",
    "num_epochs_50 = 5\n",
    "\n",
    "\n",
    "# Setup the loss fxn\n",
    "# Because the data imbalance, we use weight Tensor w to adjust\n",
    "w = [200,40,20,7,6]\n",
    "w = [1- (a/sum(w)) for a in w]\n",
    "w = torch.Tensor(w).to(device)\n",
    "print(w)\n",
    "criterion = nn.CrossEntropyLoss(weight=w)"
   ]
  },
  {
   "cell_type": "code",
   "execution_count": null,
   "metadata": {
    "scrolled": true
   },
   "outputs": [],
   "source": [
    "def get_pretrained_model(model_name, num_classes,use_pretrained=True):\n",
    "    model_dict = {\n",
    "        'resnet18':  models.resnet18,\n",
    "        'resnet34':  models.resnet34,\n",
    "        'resnet50':  models.resnet50,\n",
    "        'resnet101': models.resnet101,\n",
    "        'resnet152': models.resnet152\n",
    "    }\n",
    "    \n",
    "    model_ft = model_dict[model_name](pretrained=use_pretrained)          \n",
    "    num_ftrs = model_ft.fc.in_features\n",
    "    model_ft.fc = nn.Sequential(OrderedDict([\n",
    "        ('fc1', nn.Linear(num_ftrs,128)),\n",
    "        ('relu', nn.ReLU()),\n",
    "        ('fc2', nn.Linear(128,5))\n",
    "    ]))\n",
    "    input_size = 224\n",
    "    \n",
    "    return model_ft, input_size"
   ]
  },
  {
   "cell_type": "markdown",
   "metadata": {},
   "source": [
    "## Run ResNet pretrained model which is from `torchvision`"
   ]
  },
  {
   "cell_type": "code",
   "execution_count": null,
   "metadata": {},
   "outputs": [],
   "source": [
    "MODE = 'old'\n",
    "\n",
    "if MODE == 'old':\n",
    "    model_ft, _ = get_pretrained_model(\"resnet18\", num_classes=5)    # Pretrained ResNet18\n",
    "    model_ft_50, _ = get_pretrained_model('resnet50', num_classes=5) # Pretrained ResNet50\n",
    "    MyResNet18  = ResNet18(num_classes=5)\n",
    "    MyResNet50  = ResNet50(num_classes=5)\n",
    "    \n",
    "else:\n",
    "    model_ft    = torch.load('./models/vision_pretrained_resnet18')\n",
    "    model_ft_50 = torch.load('./models/vision_pretrained_resnet50')\n",
    "    MyResNet18  = torch.load('./models/my_resnet18')\n",
    "    MyResNet50  = torch.load('./models/my_resnet50')\n",
    "    \n",
    "model_ft    = model_ft.to(device)\n",
    "model_ft_50 = model_ft_50.to(device)\n",
    "MyResNet18  = MyResNet18.to(device)\n",
    "MyResNet50  = MyResNet50.to(device)\n"
   ]
  },
  {
   "cell_type": "markdown",
   "metadata": {},
   "source": [
    "## Run Pretrained ResNet18"
   ]
  },
  {
   "cell_type": "code",
   "execution_count": null,
   "metadata": {
    "scrolled": true
   },
   "outputs": [],
   "source": [
    "# Setup optimizer\n",
    "optimizer_ft = optim.SGD(model_ft.parameters(), lr=1e-3, weight_decay=1e-2, momentum=0.9)\n",
    "lr_sch = optim.lr_scheduler.ReduceLROnPlateau(optimizer_ft)\n",
    "\n",
    "# Train and evaluate pretrained model\n",
    "pretrained_loss_list, pretrained_acc_train_list, pretrained_acc_test_list, best_acc = \\\n",
    "run(model_ft, dataloaders_dict, criterion, optimizer=optimizer_ft,\\\n",
    "        scheduler=lr_sch,num_epochs=num_epochs_18)"
   ]
  },
  {
   "cell_type": "code",
   "execution_count": null,
   "metadata": {
    "scrolled": true
   },
   "outputs": [],
   "source": [
    "torch.save(model_ft,'./models/vision_pretrained_resnet18')\n",
    "torch.save(pretrained_loss_list,'./result_list/pretrained_loss_list')\n",
    "torch.save(pretrained_acc_train_list, './result_list/pretrained_acc_train_list')\n",
    "torch.save(pretrained_acc_test_list, './result_list/pretrained_acc_test_list')"
   ]
  },
  {
   "cell_type": "markdown",
   "metadata": {},
   "source": [
    "## Run ResNet implemented by myself"
   ]
  },
  {
   "cell_type": "code",
   "execution_count": null,
   "metadata": {
    "scrolled": true
   },
   "outputs": [],
   "source": [
    "opt_MyResNet18 = optim.SGD(MyResNet18.parameters(), lr=1e-3,weight_decay=5e-4, momentum=0.9)\n",
    "lr_sch = optim.lr_scheduler.ReduceLROnPlateau(opt_MyResNet18)"
   ]
  },
  {
   "cell_type": "code",
   "execution_count": null,
   "metadata": {
    "scrolled": true
   },
   "outputs": [],
   "source": [
    "my_loss_list_18, my_acc_train_list_18, my_acc_test_list_18, best_acc = \\\n",
    "run(MyResNet18, dataloaders_dict, criterion, optimizer=opt_MyResNet18,\\\n",
    "        scheduler=lr_sch,num_epochs=num_epochs_18)"
   ]
  },
  {
   "cell_type": "code",
   "execution_count": null,
   "metadata": {},
   "outputs": [],
   "source": [
    "torch.save(MyResNet18,'./models/my_resnet18')\n",
    "torch.save(my_loss_list_18,'./result_list/my_loss_list_18')\n",
    "torch.save(my_acc_train_list_18, './result_list/my_acc_train_list_18')\n",
    "torch.save(my_acc_test_list_18, './result_list/my_acc_test_list_18')"
   ]
  },
  {
   "cell_type": "markdown",
   "metadata": {},
   "source": [
    "## Comparison"
   ]
  },
  {
   "cell_type": "code",
   "execution_count": null,
   "metadata": {
    "scrolled": false
   },
   "outputs": [],
   "source": [
    "ohist_1  = [h.cpu().numpy() for h in pretrained_acc_train_list]\n",
    "myhist_1 = [h.cpu().numpy() for h in my_acc_train_list_18]\n",
    "ohist_2  = [h.cpu().numpy() for h in pretrained_acc_test_list]\n",
    "myhist_2 = [h.cpu().numpy() for h in my_acc_test_list_18]\n",
    "\n",
    "plt.figure(figsize=(24,16))\n",
    "plt.title(\"Result Comparison(ResNet18)\")\n",
    "plt.xlabel(\"Training Epochs\")\n",
    "plt.ylabel(\"Validation Accuracy\")\n",
    "plt.plot(range(1,num_epochs_18+1),ohist_1,label=\"Train(with pretraining)\")\n",
    "plt.plot(range(1,num_epochs_18+1),myhist_1,label=\"Train(w/o pretraining)\")\n",
    "plt.plot(range(1,num_epochs_18+1),ohist_2,label=\"Test(with pretraining)\")\n",
    "plt.plot(range(1,num_epochs_18+1),myhist_2,label=\"Test(w/o pretraining)\")\n",
    "plt.xticks(np.arange(1, num_epochs_18+1, 1.0))\n",
    "plt.legend()\n",
    "plt.show()"
   ]
  },
  {
   "cell_type": "markdown",
   "metadata": {},
   "source": [
    "## ResNet 50"
   ]
  },
  {
   "cell_type": "code",
   "execution_count": null,
   "metadata": {
    "scrolled": true
   },
   "outputs": [],
   "source": [
    "# Setup optimizer\n",
    "optimizer_ft_50 = optim.SGD(model_ft_50.parameters(), lr=1e-3, weight_decay=1e-3, momentum=0.9)\n",
    "lr_sch = optim.lr_scheduler.ReduceLROnPlateau(optimizer_ft_50)\n",
    "\n",
    "# Train and evaluate pretrained model\n",
    "pretrained_loss_list_50, pretrained_acc_train_list_50, pretrained_acc_test_list_50 , best_acc= \\\n",
    "run(model_ft_50, dataloaders_dict, criterion, optimizer=optimizer_ft_50,\\\n",
    "        num_epochs=num_epochs_50,scheduler=lr_sch,\\\n",
    "        model_path = './models/vision_pretrained_resnet50', best_acc = 0.)"
   ]
  },
  {
   "cell_type": "code",
   "execution_count": null,
   "metadata": {},
   "outputs": [],
   "source": [
    "#torch.save(model_ft_50,'./models/vision_pretrained_resnet50')\n",
    "torch.save(pretrained_loss_list_50,'./result_list/pretrained_loss_list_50')\n",
    "torch.save(pretrained_acc_train_list_50, './result_list/pretrained_acc_train_list_50')\n",
    "torch.save(pretrained_acc_test_list_50, './result_list/pretrained_acc_test_list_50')"
   ]
  },
  {
   "cell_type": "markdown",
   "metadata": {},
   "source": [
    "## Run ResNet50 implemented by myself"
   ]
  },
  {
   "cell_type": "code",
   "execution_count": null,
   "metadata": {},
   "outputs": [],
   "source": [
    "MyResNet50 = ResNet50(num_classes)\n",
    "MyResNet50 = MyResNet50.to(device)"
   ]
  },
  {
   "cell_type": "code",
   "execution_count": null,
   "metadata": {},
   "outputs": [],
   "source": [
    "opt_MyResNet50 = optim.SGD(MyResNet50.parameters(), lr=1e-3,weight_decay=5e-4, momentum=0.9)\n",
    "lr_sch = optim.lr_scheduler.ReduceLROnPlateau(opt_MyResNet50)"
   ]
  },
  {
   "cell_type": "code",
   "execution_count": null,
   "metadata": {
    "scrolled": true
   },
   "outputs": [],
   "source": [
    "my_loss_list_50, my_acc_train_list_50, my_acc_test_list_50, best_acc = \\\n",
    "run(MyResNet50, dataloaders_dict, criterion,optimizer=opt_MyResNet50,\\\n",
    "        num_epochs=num_epochs_50,scheduler=lr_sch,\\\n",
    "        model_path = './models/vision_pretrained_resnet50', best_acc = 0.)"
   ]
  },
  {
   "cell_type": "code",
   "execution_count": null,
   "metadata": {},
   "outputs": [],
   "source": [
    "torch.save(MyResNet50,'./models/my_resnet50')\n",
    "torch.save(my_loss_list_50,'./result_list/my_loss_list_50')\n",
    "torch.save(my_acc_train_list_50, './result_list/my_acc_train_list_50')\n",
    "torch.save(my_acc_test_list_50, './result_list/my_acc_test_list_50')"
   ]
  },
  {
   "cell_type": "markdown",
   "metadata": {},
   "source": [
    "## Comparison"
   ]
  },
  {
   "cell_type": "code",
   "execution_count": null,
   "metadata": {},
   "outputs": [],
   "source": [
    "ohist_1  = [h.cpu().numpy() for h in pretrained_acc_train_list_50]\n",
    "myhist_1 = [h.cpu().numpy() for h in my_acc_train_list_50]\n",
    "ohist_2  = [h.cpu().numpy() for h in pretrained_acc_test_list_50]\n",
    "myhist_2 = [h.cpu().numpy() for h in my_acc_test_list_50]\n",
    "\n",
    "plt.figure(figsize=(24,16))\n",
    "plt.title(\"Result Comparison(ResNet50)\")\n",
    "plt.xlabel(\"Training Epochs\")\n",
    "plt.ylabel(\"Validation Accuracy\")\n",
    "plt.plot(range(1,num_epochs_50+1),ohist_1,label=\"Train(with pretraining)\")\n",
    "plt.plot(range(1,num_epochs_50+1),myhist_1,label=\"Train(w/o pretraining)\")\n",
    "plt.plot(range(1,num_epochs_50+1),ohist_2,label=\"Test(with pretraining)\")\n",
    "plt.plot(range(1,num_epochs_50+1),myhist_2,label=\"Test(w/o pretraining)\")\n",
    "plt.xticks(np.arange(1, num_epochs_50+1, 1.0))\n",
    "plt.legend()\n",
    "plt.show()"
   ]
  },
  {
   "cell_type": "markdown",
   "metadata": {},
   "source": [
    "# Run ResNet152"
   ]
  },
  {
   "cell_type": "markdown",
   "metadata": {},
   "source": [
    "### With pretrained resnet 152"
   ]
  },
  {
   "cell_type": "code",
   "execution_count": null,
   "metadata": {},
   "outputs": [],
   "source": [
    "pretrained_152 ,_ = get_pretrained_model(model_name='resnet152',num_classes=5)\n",
    "pretrained_152 = pretrained_152.to(device)\n",
    "criterion = nn.CrossEntropyLoss()"
   ]
  },
  {
   "cell_type": "code",
   "execution_count": null,
   "metadata": {},
   "outputs": [],
   "source": [
    "pretrained_152 = torch.load('./models/vision_pretrained_152')\n",
    "pretrained_152 = pretrained_152.to(device)"
   ]
  },
  {
   "cell_type": "code",
   "execution_count": null,
   "metadata": {},
   "outputs": [],
   "source": [
    "opt_pretrained_152 = optim.SGD(pretrained_152.parameters(), lr=1e-3,weight_decay=5e-3, momentum=0.9)\n",
    "lr_sch = optim.lr_scheduler.ReduceLROnPlateau(opt_pretrained_152)"
   ]
  },
  {
   "cell_type": "code",
   "execution_count": null,
   "metadata": {},
   "outputs": [],
   "source": [
    "pretrained_loss_list_152, pretrained_acc_train_list_152, pretrained_acc_test_list_152, best_acc = \\\n",
    "    run(pretrained_152, dataloaders_dict, criterion,optimizer=opt_pretrained_152\\\n",
    "        , scheduler=lr_sch, num_epochs=20, model_path = './models/vision_pretrained_152', best_acc = 0.7805)"
   ]
  },
  {
   "cell_type": "code",
   "execution_count": null,
   "metadata": {},
   "outputs": [],
   "source": [
    "#torch.save(pretrained_152,'./models/vision_pretrained_152')\n",
    "torch.save(pretrained_loss_list_152,'./result_list/pretrained_loss_list_152')\n",
    "torch.save(pretrained_acc_train_list_152, './result_list/pretrained_acc_train_list_152')\n",
    "torch.save(pretrained_acc_test_list_152, './result_list/pretrained_acc_test_list_152')"
   ]
  }
 ],
 "metadata": {
  "kernelspec": {
   "display_name": "Python 3",
   "language": "python",
   "name": "python3"
  },
  "language_info": {
   "codemirror_mode": {
    "name": "ipython",
    "version": 3
   },
   "file_extension": ".py",
   "mimetype": "text/x-python",
   "name": "python",
   "nbconvert_exporter": "python",
   "pygments_lexer": "ipython3",
   "version": "3.8.3"
  }
 },
 "nbformat": 4,
 "nbformat_minor": 2
}
