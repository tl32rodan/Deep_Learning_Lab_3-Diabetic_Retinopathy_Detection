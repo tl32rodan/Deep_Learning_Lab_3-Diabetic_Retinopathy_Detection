{
 "cells": [
  {
   "cell_type": "markdown",
   "metadata": {},
   "source": [
    "# Run ResNet152"
   ]
  },
  {
   "cell_type": "code",
   "execution_count": null,
   "metadata": {},
   "outputs": [],
   "source": [
    "from __future__ import print_function \n",
    "from __future__ import division\n",
    "\n",
    "from dataloader import RetinopathyLoader\n",
    "from torch.utils import data\n",
    "from ResNet import *\n",
    "from run_model import *\n",
    "\n",
    "\n",
    "import torch\n",
    "import torch.nn as nn\n",
    "import torch.optim as optim\n",
    "import time\n",
    "import os\n",
    "import copy\n",
    "import pandas as pd\n",
    "import numpy as np\n",
    "import matplotlib.pyplot as plt\n",
    "import torchvision\n",
    "from torchvision import datasets, models, transforms\n",
    "from collections import OrderedDict\n",
    "from PIL import Image\n",
    "print(\"PyTorch Version: \",torch.__version__)\n",
    "print(\"Torchvision Version: \",torchvision.__version__)\n"
   ]
  },
  {
   "cell_type": "code",
   "execution_count": null,
   "metadata": {},
   "outputs": [],
   "source": [
    "\n",
    "# Batch size for training (change depending on how much memory you have)\n",
    "batch_size = 4\n",
    "\n",
    "train_set = RetinopathyLoader(root='./data/',mode='train')\n",
    "train_loader = data.DataLoader(dataset=train_set,batch_size=batch_size)\n",
    "test_set = RetinopathyLoader(root='./data/',mode='test')\n",
    "test_loader = data.DataLoader(dataset=test_set,batch_size=batch_size)\n",
    "\n",
    "dataloaders_dict = {'train':train_loader,\n",
    "                    'val' : test_loader}\n",
    "\n"
   ]
  },
  {
   "cell_type": "code",
   "execution_count": null,
   "metadata": {},
   "outputs": [],
   "source": [
    "device = torch.device(\"cuda:0\" if torch.cuda.is_available() else \"cpu\")\n",
    "\n",
    "# Number of classes in the dataset\n",
    "num_classes = 5\n",
    "\n",
    "# Number of epochs to train for \n",
    "num_epochs_18 = 10\n",
    "num_epochs_50 = 5\n"
   ]
  },
  {
   "cell_type": "code",
   "execution_count": null,
   "metadata": {},
   "outputs": [],
   "source": [
    "# Setup the loss fxn\n",
    "# Because the data imbalance, we use weight Tensor w to adjust\n",
    "w = [200,40,20,7,6]\n",
    "w = [1- (a/sum(w)) for a in w]\n",
    "w = torch.Tensor(w).to(device)\n",
    "print(w)\n",
    "criterion = nn.CrossEntropyLoss(weight=w)"
   ]
  },
  {
   "cell_type": "code",
   "execution_count": null,
   "metadata": {},
   "outputs": [],
   "source": [
    "def get_pretrained_model(model_name, num_classes,use_pretrained=True):\n",
    "    model_dict = {\n",
    "        'resnet18':  models.resnet18,\n",
    "        'resnet34':  models.resnet34,\n",
    "        'resnet50':  models.resnet50,\n",
    "        'resnet101': models.resnet101,\n",
    "        'resnet152': models.resnet152\n",
    "    }\n",
    "    \n",
    "    model_ft = model_dict[model_name](pretrained=use_pretrained)          \n",
    "    num_ftrs = model_ft.fc.in_features\n",
    "    model_ft.fc = nn.Sequential(OrderedDict([\n",
    "        ('fc1', nn.Linear(num_ftrs,128)),\n",
    "        ('relu', nn.ReLU()),\n",
    "        ('fc2', nn.Linear(128,5))\n",
    "    ]))\n",
    "    input_size = 224\n",
    "    \n",
    "    return model_ft, input_size"
   ]
  },
  {
   "cell_type": "code",
   "execution_count": null,
   "metadata": {},
   "outputs": [],
   "source": [
    "pretrained_152 ,_ = get_pretrained_model(model_name='resnet152',num_classes=5)\n",
    "pretrained_152 = pretrained_152.to(device)"
   ]
  },
  {
   "cell_type": "code",
   "execution_count": null,
   "metadata": {},
   "outputs": [],
   "source": [
    "pretrained_152 = torch.load('./models/vision_pretrained_152')\n",
    "pretrained_152 = pretrained_152.to(device)"
   ]
  },
  {
   "cell_type": "code",
   "execution_count": null,
   "metadata": {},
   "outputs": [],
   "source": [
    "opt_pretrained_152 = optim.SGD(pretrained_152.parameters(), lr=1e-3,weight_decay=5e-3, momentum=0.9)\n",
    "lr_sch = optim.lr_scheduler.ReduceLROnPlateau(opt_pretrained_152)\n",
    "\n",
    "pretrained_loss_list_152, pretrained_acc_train_list_152, pretrained_acc_test_list_152, best_acc = \\\n",
    "    run(pretrained_152, dataloaders_dict, criterion,optimizer=opt_pretrained_152\\\n",
    "        , scheduler=lr_sch, num_epochs=20, model_path = './models/vision_pretrained_152', best_acc = 0.7805)"
   ]
  },
  {
   "cell_type": "code",
   "execution_count": null,
   "metadata": {},
   "outputs": [],
   "source": [
    "\n",
    "#torch.save(pretrained_152,'./models/vision_pretrained_152')\n",
    "torch.save(pretrained_loss_list_152,'./result_list/pretrained_loss_list_152')\n",
    "torch.save(pretrained_acc_train_list_152, './result_list/pretrained_acc_train_list_152')\n",
    "torch.save(pretrained_acc_test_list_152, './result_list/pretrained_acc_test_list_152')"
   ]
  }
 ],
 "metadata": {
  "kernelspec": {
   "display_name": "Python 3",
   "language": "python",
   "name": "python3"
  },
  "language_info": {
   "codemirror_mode": {
    "name": "ipython",
    "version": 3
   },
   "file_extension": ".py",
   "mimetype": "text/x-python",
   "name": "python",
   "nbconvert_exporter": "python",
   "pygments_lexer": "ipython3",
   "version": "3.8.3"
  }
 },
 "nbformat": 4,
 "nbformat_minor": 4
}
