{
 "cells": [
  {
   "cell_type": "code",
   "execution_count": 12,
   "metadata": {
    "scrolled": true
   },
   "outputs": [
    {
     "name": "stdout",
     "output_type": "stream",
     "text": [
      "PyTorch Version:  1.4.0a0+649135b\n",
      "Torchvision Version:  0.5.0a0\n"
     ]
    }
   ],
   "source": [
    "from __future__ import print_function \n",
    "from __future__ import division\n",
    "import torch\n",
    "import torch.nn as nn\n",
    "import torch.optim as optim\n",
    "from torch.utils import data\n",
    "from ResNet import *\n",
    "from run_model import *\n",
    "\n",
    "\n",
    "import time\n",
    "import os\n",
    "import copy\n",
    "import pandas as pd\n",
    "import numpy as np\n",
    "import matplotlib.pyplot as plt\n",
    "import torchvision\n",
    "from torchvision import datasets, models, transforms\n",
    "from collections import OrderedDict\n",
    "from PIL import Image\n",
    "print(\"PyTorch Version: \",torch.__version__)\n",
    "print(\"Torchvision Version: \",torchvision.__version__)"
   ]
  },
  {
   "cell_type": "code",
   "execution_count": 13,
   "metadata": {
    "scrolled": true
   },
   "outputs": [],
   "source": [
    "from dataloader import RetinopathyLoader"
   ]
  },
  {
   "cell_type": "code",
   "execution_count": 14,
   "metadata": {
    "scrolled": true
   },
   "outputs": [
    {
     "name": "stdout",
     "output_type": "stream",
     "text": [
      "> Found 28099 images...\n",
      "> Found 7025 images...\n"
     ]
    }
   ],
   "source": [
    "# Batch size for training (change depending on how much memory you have)\n",
    "batch_size = 32\n",
    "\n",
    "train_set = RetinopathyLoader(root='./data/',mode='train')\n",
    "train_loader = data.DataLoader(dataset=train_set,batch_size=batch_size)\n",
    "test_set = RetinopathyLoader(root='./data/',mode='test')\n",
    "test_loader = data.DataLoader(dataset=test_set,batch_size=batch_size)\n",
    "\n",
    "dataloaders_dict = {'train':train_loader,\n",
    "                    'val' : test_loader}"
   ]
  },
  {
   "cell_type": "code",
   "execution_count": 15,
   "metadata": {
    "scrolled": true
   },
   "outputs": [
    {
     "data": {
      "text/plain": [
       "device(type='cuda', index=0)"
      ]
     },
     "execution_count": 15,
     "metadata": {},
     "output_type": "execute_result"
    }
   ],
   "source": [
    "device = torch.device(\"cuda:0\" if torch.cuda.is_available() else \"cpu\")\n",
    "device"
   ]
  },
  {
   "cell_type": "code",
   "execution_count": 16,
   "metadata": {
    "scrolled": true
   },
   "outputs": [
    {
     "name": "stdout",
     "output_type": "stream",
     "text": [
      "tensor([0.2674, 0.8535, 0.9267, 0.9744, 0.9780], device='cuda:0')\n"
     ]
    }
   ],
   "source": [
    "# Models to choose from [resnet, alexnet, vgg, squeezenet, densenet, inception]\n",
    "model_name = \"resnet18\"\n",
    "\n",
    "# Number of classes in the dataset\n",
    "num_classes = 5\n",
    "\n",
    "\n",
    "\n",
    "# Number of epochs to train for \n",
    "num_epochs = 10\n",
    "\n",
    "# Setup the loss fxn\n",
    "# Because the data imbalance, we use weight Tensor w to adjust\n",
    "w = [200,40,20,7,6]\n",
    "w = [1- (a/sum(w)) for a in w]\n",
    "w = torch.Tensor(w).to(device)\n",
    "print(w)\n",
    "criterion = nn.CrossEntropyLoss(weight=w)"
   ]
  },
  {
   "cell_type": "code",
   "execution_count": 17,
   "metadata": {
    "scrolled": true
   },
   "outputs": [],
   "source": [
    "def get_pretrained_model(model_name, num_classes,use_pretrained=True):\n",
    "    model_dict = {\n",
    "        'resnet18':  models.resnet18,\n",
    "        'resnet34':  models.resnet34,\n",
    "        'resnet50':  models.resnet50,\n",
    "        'resnet101': models.resnet101,\n",
    "        'resnet152': models.resnet152\n",
    "    }\n",
    "    \n",
    "    model_ft = model_dict[model_name](pretrained=use_pretrained)          \n",
    "    num_ftrs = model_ft.fc.in_features\n",
    "    model_ft.fc = nn.Linear(num_ftrs, num_classes)\n",
    "    input_size = 224\n",
    "    \n",
    "    return model_ft, input_size"
   ]
  },
  {
   "cell_type": "markdown",
   "metadata": {},
   "source": [
    "## Run ResNet pretrained model which is from `torchvision`"
   ]
  },
  {
   "cell_type": "code",
   "execution_count": null,
   "metadata": {
    "scrolled": true
   },
   "outputs": [],
   "source": [
    "# Initialize the pretrained model for this run\n",
    "model_ft, input_size = get_pretrained_model(model_name, num_classes=5)\n",
    "\n",
    "\n",
    "# Setup optimizer\n",
    "#optimizer_ft = optim.SGD(model_ft.parameters(), lr=1e-3, weight_decay=5e-4, momentum=0.9)\n",
    "\n",
    "# Send the model to GPU\n",
    "model_ft = model_ft.to(device)\n",
    "\n",
    "# Train and evaluate pretrained model\n",
    "pretrained_loss_list, pretrained_acc_train_list, pretrained_acc_test_list = \\\n",
    "    run(model_ft, dataloaders_dict, criterion, num_epochs=num_epochs)"
   ]
  },
  {
   "cell_type": "code",
   "execution_count": null,
   "metadata": {
    "scrolled": true
   },
   "outputs": [],
   "source": [
    "torch.save(model_ft,'./models/vision_pretrained_resnet18')\n",
    "torch.save(pretrained_loss_list,'./result_list/pretrained_loss_list')\n",
    "torch.save(pretrained_acc_train_list, './result_list/pretrained_acc_train_list')\n",
    "torch.save(pretrained_acc_test_list, './result_list/pretrained_acc_test_list')"
   ]
  },
  {
   "cell_type": "markdown",
   "metadata": {},
   "source": [
    "## Run ResNet model (no pretrained) which is from `torchvision`"
   ]
  },
  {
   "cell_type": "code",
   "execution_count": null,
   "metadata": {
    "scrolled": true
   },
   "outputs": [],
   "source": [
    "# Initialize the non-pretrained version of the model used for this run\n",
    "#scratch_model,_ = get_pretrained_model(model_name, num_classes=5, use_pretrained=False)\n",
    "#scratch_model = scratch_model.to(device)\n",
    "#scratch_loss_list, scratch_acc_train_list, scratch_acc_test_list = \\\n",
    "#    run(scratch_model, dataloaders_dict, criterion, num_epochs=num_epochs)"
   ]
  },
  {
   "cell_type": "code",
   "execution_count": null,
   "metadata": {
    "scrolled": true
   },
   "outputs": [],
   "source": [
    "#torch.save(scratch_model,'./models/vision_not_pretrained_resnet18')"
   ]
  },
  {
   "cell_type": "markdown",
   "metadata": {},
   "source": [
    "## Run ResNet implemented by myself"
   ]
  },
  {
   "cell_type": "code",
   "execution_count": null,
   "metadata": {},
   "outputs": [],
   "source": [
    "MyResNet18 = ResNet18(num_classes=5)\n",
    "MyResNet18 = MyResNet18.to(device)"
   ]
  },
  {
   "cell_type": "code",
   "execution_count": 7,
   "metadata": {
    "scrolled": true
   },
   "outputs": [],
   "source": [
    "opt_MyResNet18 = optim.SGD(MyResNet18.parameters(), lr=1e-3,weight_decay=5e-4, momentum=0.9)\n",
    "lr_sch = optim.lr_scheduler.ReduceLROnPlateau(opt_MyResNet18)"
   ]
  },
  {
   "cell_type": "code",
   "execution_count": null,
   "metadata": {
    "scrolled": true
   },
   "outputs": [],
   "source": [
    "my_loss_list, my_acc_train_list, my_acc_test_list = \\\n",
    "    run(MyResNet18, dataloaders_dict, criterion, optimizer=opt_MyResNet18,\\\n",
    "        scheduler=lr_sch,num_epochs=num_epochs)"
   ]
  },
  {
   "cell_type": "code",
   "execution_count": null,
   "metadata": {},
   "outputs": [],
   "source": [
    "torch.save(MyResNet18,'./models/my_resnet18')\n",
    "torch.save(my_loss_list,'./result_list/my_loss_list_18')\n",
    "torch.save(my_acc_train_list, './result_list/my_acc_train_list_18')\n",
    "torch.save(my_acc_test_list, './result_list/my_acc_test_list_18')"
   ]
  },
  {
   "cell_type": "markdown",
   "metadata": {},
   "source": [
    "### Train with more epochs"
   ]
  },
  {
   "cell_type": "code",
   "execution_count": null,
   "metadata": {},
   "outputs": [],
   "source": [
    "MyResNet18 = torch.load('./models/vision_pretrained_resnet18')"
   ]
  },
  {
   "cell_type": "code",
   "execution_count": 13,
   "metadata": {
    "collapsed": true
   },
   "outputs": [
    {
     "name": "stdout",
     "output_type": "stream",
     "text": [
      "Epoch 1/3\n",
      "----------\n"
     ]
    },
    {
     "ename": "KeyboardInterrupt",
     "evalue": "",
     "output_type": "error",
     "traceback": [
      "\u001b[0;31m---------------------------------------------------------------------------\u001b[0m",
      "\u001b[0;31mKeyboardInterrupt\u001b[0m                         Traceback (most recent call last)",
      "\u001b[0;32m<ipython-input-13-aa0d898ca0b4>\u001b[0m in \u001b[0;36m<module>\u001b[0;34m\u001b[0m\n\u001b[1;32m      1\u001b[0m \u001b[0mopt_MyResNet18\u001b[0m \u001b[0;34m=\u001b[0m \u001b[0moptim\u001b[0m\u001b[0;34m.\u001b[0m\u001b[0mSGD\u001b[0m\u001b[0;34m(\u001b[0m\u001b[0mMyResNet18\u001b[0m\u001b[0;34m.\u001b[0m\u001b[0mparameters\u001b[0m\u001b[0;34m(\u001b[0m\u001b[0;34m)\u001b[0m\u001b[0;34m,\u001b[0m \u001b[0mlr\u001b[0m\u001b[0;34m=\u001b[0m\u001b[0;36m1e-2\u001b[0m\u001b[0;34m,\u001b[0m\u001b[0mweight_decay\u001b[0m\u001b[0;34m=\u001b[0m\u001b[0;36m5e-3\u001b[0m\u001b[0;34m,\u001b[0m \u001b[0mmomentum\u001b[0m\u001b[0;34m=\u001b[0m\u001b[0;36m0.9\u001b[0m\u001b[0;34m)\u001b[0m\u001b[0;34m\u001b[0m\u001b[0;34m\u001b[0m\u001b[0m\n\u001b[1;32m      2\u001b[0m \u001b[0mlr_sch\u001b[0m \u001b[0;34m=\u001b[0m \u001b[0moptim\u001b[0m\u001b[0;34m.\u001b[0m\u001b[0mlr_scheduler\u001b[0m\u001b[0;34m.\u001b[0m\u001b[0mReduceLROnPlateau\u001b[0m\u001b[0;34m(\u001b[0m\u001b[0mopt_MyResNet18\u001b[0m\u001b[0;34m)\u001b[0m\u001b[0;34m\u001b[0m\u001b[0;34m\u001b[0m\u001b[0m\n\u001b[0;32m----> 3\u001b[0;31m run(MyResNet18, dataloaders_dict, criterion, optimizer=opt_MyResNet18,\\\n\u001b[0m\u001b[1;32m      4\u001b[0m         scheduler=lr_sch,num_epochs=3)\n",
      "\u001b[0;32m~/Desktop/dl/Lab3/run_model.py\u001b[0m in \u001b[0;36mrun\u001b[0;34m(model, dataloaders, criterion, optimizer, scheduler, num_epochs, print_freq)\u001b[0m\n\u001b[1;32m     70\u001b[0m                 \u001b[0;32mif\u001b[0m \u001b[0mphase\u001b[0m \u001b[0;34m==\u001b[0m \u001b[0;34m'train'\u001b[0m\u001b[0;34m:\u001b[0m\u001b[0;34m\u001b[0m\u001b[0;34m\u001b[0m\u001b[0m\n\u001b[1;32m     71\u001b[0m                     \u001b[0mloss\u001b[0m\u001b[0;34m.\u001b[0m\u001b[0mbackward\u001b[0m\u001b[0;34m(\u001b[0m\u001b[0;34m)\u001b[0m\u001b[0;34m\u001b[0m\u001b[0;34m\u001b[0m\u001b[0m\n\u001b[0;32m---> 72\u001b[0;31m                     \u001b[0moptimizer\u001b[0m\u001b[0;34m.\u001b[0m\u001b[0mstep\u001b[0m\u001b[0;34m(\u001b[0m\u001b[0;34m)\u001b[0m\u001b[0;34m\u001b[0m\u001b[0;34m\u001b[0m\u001b[0m\n\u001b[0m\u001b[1;32m     73\u001b[0m \u001b[0;34m\u001b[0m\u001b[0m\n\u001b[1;32m     74\u001b[0m                 \u001b[0;31m# statistics\u001b[0m\u001b[0;34m\u001b[0m\u001b[0;34m\u001b[0m\u001b[0;34m\u001b[0m\u001b[0m\n",
      "\u001b[0;32m~/anaconda3/envs/dl/lib/python3.8/site-packages/torch/optim/sgd.py\u001b[0m in \u001b[0;36mstep\u001b[0;34m(self, closure)\u001b[0m\n\u001b[1;32m     98\u001b[0m                     \u001b[0;32melse\u001b[0m\u001b[0;34m:\u001b[0m\u001b[0;34m\u001b[0m\u001b[0;34m\u001b[0m\u001b[0m\n\u001b[1;32m     99\u001b[0m                         \u001b[0mbuf\u001b[0m \u001b[0;34m=\u001b[0m \u001b[0mparam_state\u001b[0m\u001b[0;34m[\u001b[0m\u001b[0;34m'momentum_buffer'\u001b[0m\u001b[0;34m]\u001b[0m\u001b[0;34m\u001b[0m\u001b[0;34m\u001b[0m\u001b[0m\n\u001b[0;32m--> 100\u001b[0;31m                         \u001b[0mbuf\u001b[0m\u001b[0;34m.\u001b[0m\u001b[0mmul_\u001b[0m\u001b[0;34m(\u001b[0m\u001b[0mmomentum\u001b[0m\u001b[0;34m)\u001b[0m\u001b[0;34m.\u001b[0m\u001b[0madd_\u001b[0m\u001b[0;34m(\u001b[0m\u001b[0;36m1\u001b[0m \u001b[0;34m-\u001b[0m \u001b[0mdampening\u001b[0m\u001b[0;34m,\u001b[0m \u001b[0md_p\u001b[0m\u001b[0;34m)\u001b[0m\u001b[0;34m\u001b[0m\u001b[0;34m\u001b[0m\u001b[0m\n\u001b[0m\u001b[1;32m    101\u001b[0m                     \u001b[0;32mif\u001b[0m \u001b[0mnesterov\u001b[0m\u001b[0;34m:\u001b[0m\u001b[0;34m\u001b[0m\u001b[0;34m\u001b[0m\u001b[0m\n\u001b[1;32m    102\u001b[0m                         \u001b[0md_p\u001b[0m \u001b[0;34m=\u001b[0m \u001b[0md_p\u001b[0m\u001b[0;34m.\u001b[0m\u001b[0madd\u001b[0m\u001b[0;34m(\u001b[0m\u001b[0mmomentum\u001b[0m\u001b[0;34m,\u001b[0m \u001b[0mbuf\u001b[0m\u001b[0;34m)\u001b[0m\u001b[0;34m\u001b[0m\u001b[0;34m\u001b[0m\u001b[0m\n",
      "\u001b[0;31mKeyboardInterrupt\u001b[0m: "
     ]
    }
   ],
   "source": [
    "opt_MyResNet18 = optim.SGD(MyResNet18.parameters(), lr=1e-2,weight_decay=5e-3, momentum=0.9)\n",
    "lr_sch = optim.lr_scheduler.ReduceLROnPlateau(opt_MyResNet18)\n",
    "run(MyResNet18, dataloaders_dict, criterion, optimizer=opt_MyResNet18,\\\n",
    "        scheduler=lr_sch,num_epochs=3)"
   ]
  },
  {
   "cell_type": "code",
   "execution_count": null,
   "metadata": {},
   "outputs": [],
   "source": []
  },
  {
   "cell_type": "markdown",
   "metadata": {},
   "source": [
    "## Comparison"
   ]
  },
  {
   "cell_type": "code",
   "execution_count": null,
   "metadata": {},
   "outputs": [],
   "source": [
    "model_ft = torch.load('./models/vision_pretrained_resnet18')\n",
    "pretrained_acc_test_list = torch.load('./result_list/pretrained_acc_test_list')"
   ]
  },
  {
   "cell_type": "code",
   "execution_count": null,
   "metadata": {
    "scrolled": true
   },
   "outputs": [],
   "source": [
    "ohist  = [h.cpu().numpy() for h in pretrained_acc_test_list]\n",
    "#shist  = [h.cpu().numpy() for h in scratch_acc_test_list]\n",
    "myhist = [h.cpu().numpy() for h in my_acc_test_list]\n",
    "\n",
    "plt.title(\"Validation Accuracy vs. Number of Training Epochs\")\n",
    "plt.xlabel(\"Training Epochs\")\n",
    "plt.ylabel(\"Validation Accuracy\")\n",
    "plt.plot(range(1,num_epochs+1),ohist,label=\"Pretrained\")\n",
    "#plt.plot(range(1,num_epochs+1),shist,label=\"Scratch\")\n",
    "plt.plot(range(1,num_epochs+1),myhist,label=\"My model\")\n",
    "plt.ylim((0,1.))\n",
    "plt.xticks(np.arange(1, num_epochs+1, 1.0))\n",
    "plt.legend()\n",
    "plt.show()"
   ]
  },
  {
   "cell_type": "markdown",
   "metadata": {},
   "source": [
    "## ResNet 50"
   ]
  },
  {
   "cell_type": "code",
   "execution_count": null,
   "metadata": {},
   "outputs": [],
   "source": [
    "# Initialize the pretrained model for this run\n",
    "model_ft_50, input_size = get_pretrained_model('resnet50', num_classes=5)\n",
    "print(model_ft_50)"
   ]
  },
  {
   "cell_type": "code",
   "execution_count": null,
   "metadata": {},
   "outputs": [],
   "source": [
    "# Setup optimizer\n",
    "#optimizer_ft = optim.SGD(model_ft.parameters(), lr=1e-3, weight_decay=5e-4, momentum=0.9)\n",
    "\n",
    "# Send the model to GPU\n",
    "model_ft_50 = model_ft_50.to(device)\n",
    "\n",
    "# Train and evaluate pretrained model\n",
    "pretrained_loss_list_50, pretrained_acc_train_list_50, pretrained_acc_test_list_50 = \\\n",
    "    run(model_ft_50, dataloaders_dict, criterion, num_epochs=5)"
   ]
  },
  {
   "cell_type": "code",
   "execution_count": null,
   "metadata": {},
   "outputs": [],
   "source": [
    "torch.save(model_ft_50,'./models/vision_pretrained_resnet50')\n",
    "torch.save(pretrained_loss_list_50,'./result_list/pretrained_loss_list_50')\n",
    "torch.save(pretrained_acc_train_list_50, './result_list/pretrained_acc_train_list_50')\n",
    "torch.save(pretrained_acc_test_list_50, './result_list/pretrained_acc_test_list_50')"
   ]
  },
  {
   "cell_type": "code",
   "execution_count": null,
   "metadata": {},
   "outputs": [],
   "source": []
  },
  {
   "cell_type": "code",
   "execution_count": null,
   "metadata": {
    "scrolled": true
   },
   "outputs": [],
   "source": [
    "MyResNet50 = ResNet50(num_classes=5)\n",
    "MyResNet50 = MyResNet50.to(device)\n",
    "my_loss_list_50, my_acc_train_list_50, my_acc_test_list_50 = \\\n",
    "    run(MyResNet50, dataloaders_dict, criterion, num_epochs=5)"
   ]
  },
  {
   "cell_type": "code",
   "execution_count": null,
   "metadata": {},
   "outputs": [],
   "source": [
    "torch.save(MyResNet50,'./models/my_resnet50')\n",
    "torch.save(my_loss_list_50,'./result_list/my_loss_list_50')\n",
    "torch.save(my_acc_train_list_50, './result_list/my_acc_train_list_50')\n",
    "torch.save(my_acc_test_list_50, './result_list/my_acc_test_list_50')"
   ]
  },
  {
   "cell_type": "code",
   "execution_count": null,
   "metadata": {},
   "outputs": [],
   "source": []
  },
  {
   "cell_type": "code",
   "execution_count": null,
   "metadata": {},
   "outputs": [],
   "source": []
  },
  {
   "cell_type": "code",
   "execution_count": null,
   "metadata": {
    "scrolled": true
   },
   "outputs": [],
   "source": [
    "MyResNet101 = ResNet101(num_classes=5)\n",
    "MyResNet101 = MyResNet101.to(device)\n",
    "my_loss_list_101, my_acc_train_list_101, my_acc_test_list_101 = \\\n",
    "    run(MyResNet101, dataloaders_dict, criterion, num_epochs=5)"
   ]
  },
  {
   "cell_type": "code",
   "execution_count": null,
   "metadata": {},
   "outputs": [],
   "source": [
    "torch.save(MyResNet101,'./models/my_resnet101')\n",
    "torch.save(my_loss_list_101,'./result_list/my_loss_list_101')\n",
    "torch.save(my_acc_train_list_101, './result_list/my_acc_train_list_101')\n",
    "torch.save(my_acc_test_list_101, './result_list/my_acc_test_list_101')"
   ]
  },
  {
   "cell_type": "markdown",
   "metadata": {},
   "source": [
    "# Run ResNet152"
   ]
  },
  {
   "cell_type": "markdown",
   "metadata": {},
   "source": [
    "### With pretrained resnet 152"
   ]
  },
  {
   "cell_type": "code",
   "execution_count": null,
   "metadata": {},
   "outputs": [],
   "source": [
    "pretrained_152 ,_ = get_pretrained_model(model_name='resnet152',num_classes=5)\n",
    "pretrained_152 = pretrained_152.to(device)"
   ]
  },
  {
   "cell_type": "code",
   "execution_count": null,
   "metadata": {},
   "outputs": [],
   "source": [
    "pretrained_152 = torch.load('./models/vision_pretrained_152')\n",
    "pretrained_152 = pretrained_152.to(device)"
   ]
  },
  {
   "cell_type": "code",
   "execution_count": null,
   "metadata": {},
   "outputs": [],
   "source": [
    "opt_pretrained_152 = optim.SGD(pretrained_152.parameters(), lr=1e-3,weight_decay=5e-4, momentum=0.9)\n",
    "lr_sch = optim.lr_scheduler.ReduceLROnPlateau(opt_pretrained_152)"
   ]
  },
  {
   "cell_type": "code",
   "execution_count": null,
   "metadata": {},
   "outputs": [],
   "source": [
    "pretrained_loss_list_152, pretrained_acc_train_list_152, pretrained_acc_test_list_152 = \\\n",
    "    run(pretrained_152, dataloaders_dict, criterion,optimizer=opt_pretrained_152\\\n",
    "        , scheduler=lr_sch, num_epochs=5)"
   ]
  },
  {
   "cell_type": "code",
   "execution_count": null,
   "metadata": {},
   "outputs": [],
   "source": [
    "torch.save(pretrained_152,'./models/vision_pretrained_152')\n",
    "torch.save(pretrained_loss_list_152,'./result_list/pretrained_loss_list_152')\n",
    "torch.save(pretrained_acc_train_list_152, './result_list/pretrained_acc_train_list_152')\n",
    "torch.save(pretrained_acc_test_list_152, './result_list/pretrained_acc_test_list_152')"
   ]
  },
  {
   "cell_type": "code",
   "execution_count": null,
   "metadata": {},
   "outputs": [],
   "source": []
  },
  {
   "cell_type": "code",
   "execution_count": null,
   "metadata": {},
   "outputs": [],
   "source": []
  },
  {
   "cell_type": "code",
   "execution_count": null,
   "metadata": {},
   "outputs": [],
   "source": [
    "MyResNet152 = ResNet152(num_classes=5)\n",
    "opt_MyResNet152 = optim.SGD(MyResNet152.parameters(), lr=1e-2,weight_decay=5e-3, momentum=0.9)\n",
    "lr_sch = optim.lr_scheduler.ReduceLROnPlateau(opt_MyResNet152)\n",
    "MyResNet152 = MyResNet152.to(device)\n",
    "#print(MyResNet152)"
   ]
  },
  {
   "cell_type": "code",
   "execution_count": null,
   "metadata": {
    "scrolled": true
   },
   "outputs": [],
   "source": [
    "my_loss_list_152, my_acc_train_list_152, my_acc_test_list_152 = \\\n",
    "    run(MyResNet152, dataloaders_dict, criterion, optimizer=opt_MyResNet152,scheduler=lr_sch,\\\n",
    "        num_epochs=5)"
   ]
  },
  {
   "cell_type": "code",
   "execution_count": null,
   "metadata": {},
   "outputs": [],
   "source": [
    "torch.save(MyResNet152,'./models/my_resnet152')\n",
    "torch.save(my_loss_list_152,'./result_list/my_loss_list_152')\n",
    "torch.save(my_acc_train_list_152, './result_list/my_acc_train_list_152')\n",
    "torch.save(my_acc_test_list_152, './result_list/my_acc_test_list_152')"
   ]
  },
  {
   "cell_type": "code",
   "execution_count": null,
   "metadata": {
    "scrolled": true
   },
   "outputs": [],
   "source": [
    "def count_parameters(model):\n",
    "    return sum(p.numel() for p in model.parameters() if p.requires_grad)"
   ]
  },
  {
   "cell_type": "code",
   "execution_count": null,
   "metadata": {},
   "outputs": [],
   "source": []
  }
 ],
 "metadata": {
  "kernelspec": {
   "display_name": "Python 3",
   "language": "python",
   "name": "python3"
  },
  "language_info": {
   "codemirror_mode": {
    "name": "ipython",
    "version": 3
   },
   "file_extension": ".py",
   "mimetype": "text/x-python",
   "name": "python",
   "nbconvert_exporter": "python",
   "pygments_lexer": "ipython3",
   "version": "3.6.9"
  }
 },
 "nbformat": 4,
 "nbformat_minor": 2
}
