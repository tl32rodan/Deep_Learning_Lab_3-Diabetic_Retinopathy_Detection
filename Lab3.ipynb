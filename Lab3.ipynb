{
 "cells": [
  {
   "cell_type": "code",
   "execution_count": 1,
   "metadata": {
    "scrolled": true
   },
   "outputs": [
    {
     "name": "stdout",
     "output_type": "stream",
     "text": [
      "PyTorch Version:  1.4.0a0+649135b\n",
      "Torchvision Version:  0.5.0a0\n"
     ]
    },
    {
     "name": "stderr",
     "output_type": "stream",
     "text": [
      "/opt/conda/lib/python3.6/site-packages/torchvision/io/_video_opt.py:17: UserWarning: video reader based on ffmpeg c++ ops not available\n",
      "  warnings.warn(\"video reader based on ffmpeg c++ ops not available\")\n"
     ]
    }
   ],
   "source": [
    "from __future__ import print_function \n",
    "from __future__ import division\n",
    "\n",
    "from dataloader import RetinopathyLoader\n",
    "from torch.utils import data\n",
    "from ResNet import *\n",
    "from run_model import *\n",
    "\n",
    "\n",
    "import torch\n",
    "import torch.nn as nn\n",
    "import torch.optim as optim\n",
    "import time\n",
    "import os\n",
    "import copy\n",
    "import pandas as pd\n",
    "import numpy as np\n",
    "import matplotlib.pyplot as plt\n",
    "import torchvision\n",
    "from torchvision import datasets, models, transforms\n",
    "from collections import OrderedDict\n",
    "from PIL import Image\n",
    "print(\"PyTorch Version: \",torch.__version__)\n",
    "print(\"Torchvision Version: \",torchvision.__version__)"
   ]
  },
  {
   "cell_type": "code",
   "execution_count": 2,
   "metadata": {
    "scrolled": true
   },
   "outputs": [],
   "source": [
    "# Batch size for training (change depending on how much memory you have)\n",
    "batch_size = 4\n",
    "\n",
    "train_set = RetinopathyLoader(root='./data/',mode='train')\n",
    "train_loader = data.DataLoader(dataset=train_set,batch_size=batch_size)\n",
    "test_set = RetinopathyLoader(root='./data/',mode='test')\n",
    "test_loader = data.DataLoader(dataset=test_set,batch_size=batch_size)\n",
    "\n",
    "dataloaders_dict = {'train':train_loader,\n",
    "                    'val' : test_loader}"
   ]
  },
  {
   "cell_type": "code",
   "execution_count": 4,
   "metadata": {
    "scrolled": true
   },
   "outputs": [
    {
     "data": {
      "text/plain": [
       "device(type='cuda', index=0)"
      ]
     },
     "execution_count": 4,
     "metadata": {},
     "output_type": "execute_result"
    }
   ],
   "source": [
    "device = torch.device(\"cuda:0\" if torch.cuda.is_available() else \"cpu\")"
   ]
  },
  {
   "cell_type": "code",
   "execution_count": 5,
   "metadata": {
    "scrolled": true
   },
   "outputs": [
    {
     "name": "stdout",
     "output_type": "stream",
     "text": [
      "tensor([0.2674, 0.8535, 0.9267, 0.9744, 0.9780], device='cuda:0')\n"
     ]
    }
   ],
   "source": [
    "# Number of classes in the dataset\n",
    "num_classes = 5\n",
    "\n",
    "# Number of epochs to train for \n",
    "num_epochs = 10\n",
    "\n",
    "# Setup the loss fxn\n",
    "# Because the data imbalance, we use weight Tensor w to adjust\n",
    "w = [200,40,20,7,6]\n",
    "w = [1- (a/sum(w)) for a in w]\n",
    "w = torch.Tensor(w).to(device)\n",
    "print(w)\n",
    "criterion = nn.CrossEntropyLoss(weight=w)"
   ]
  },
  {
   "cell_type": "code",
   "execution_count": 6,
   "metadata": {
    "scrolled": true
   },
   "outputs": [],
   "source": [
    "def get_pretrained_model(model_name, num_classes,use_pretrained=True):\n",
    "    model_dict = {\n",
    "        'resnet18':  models.resnet18,\n",
    "        'resnet34':  models.resnet34,\n",
    "        'resnet50':  models.resnet50,\n",
    "        'resnet101': models.resnet101,\n",
    "        'resnet152': models.resnet152\n",
    "    }\n",
    "    \n",
    "    model_ft = model_dict[model_name](pretrained=use_pretrained)          \n",
    "    num_ftrs = model_ft.fc.in_features\n",
    "    model_ft.fc = nn.Sequential(OrderedDict([\n",
    "        ('fc1', nn.Linear(num_ftrs,128)),\n",
    "        ('relu', nn.ReLU()),\n",
    "        ('fc2', nn.Linear(128,5))\n",
    "    ]))\n",
    "    input_size = 224\n",
    "    \n",
    "    return model_ft, input_size"
   ]
  },
  {
   "cell_type": "markdown",
   "metadata": {},
   "source": [
    "## Run ResNet pretrained model which is from `torchvision`"
   ]
  },
  {
   "cell_type": "code",
   "execution_count": null,
   "metadata": {},
   "outputs": [],
   "source": [
    "# Initialize the pretrained model for this run\n",
    "model_ft, input_size = get_pretrained_model(\"resnet18\", num_classes=5)\n",
    "# Send the model to GPU\n",
    "model_ft = model_ft.to(device)"
   ]
  },
  {
   "cell_type": "code",
   "execution_count": null,
   "metadata": {
    "scrolled": true
   },
   "outputs": [],
   "source": [
    "# Setup optimizer\n",
    "optimizer_ft = optim.SGD(model_ft.parameters(), lr=1e-3, weight_decay=1e-2, momentum=0.9)\n",
    "lr_sch = optim.lr_scheduler.ReduceLROnPlateau(optimizer_ft)\n",
    "\n",
    "# Train and evaluate pretrained model\n",
    "pretrained_loss_list, pretrained_acc_train_list, pretrained_acc_test_list, best_acc = \\\n",
    "run(model_ft, dataloaders_dict, criterion, optimizer=optimizer_ft,\\\n",
    "        scheduler=lr_sch,num_epochs=num_epochs)"
   ]
  },
  {
   "cell_type": "code",
   "execution_count": null,
   "metadata": {
    "scrolled": true
   },
   "outputs": [],
   "source": [
    "torch.save(model_ft,'./models/vision_pretrained_resnet18')\n",
    "torch.save(pretrained_loss_list,'./result_list/pretrained_loss_list')\n",
    "torch.save(pretrained_acc_train_list, './result_list/pretrained_acc_train_list')\n",
    "torch.save(pretrained_acc_test_list, './result_list/pretrained_acc_test_list')"
   ]
  },
  {
   "cell_type": "markdown",
   "metadata": {},
   "source": [
    "## Run ResNet model (no pretrained) which is from `torchvision`"
   ]
  },
  {
   "cell_type": "code",
   "execution_count": null,
   "metadata": {
    "scrolled": true
   },
   "outputs": [],
   "source": [
    "# Initialize the non-pretrained version of the model used for this run\n",
    "#scratch_model,_ = get_pretrained_model(model_name, num_classes=5, use_pretrained=False)\n",
    "#scratch_model = scratch_model.to(device)\n",
    "#scratch_loss_list, scratch_acc_train_list, scratch_acc_test_list = \\\n",
    "#    run(scratch_model, dataloaders_dict, criterion, num_epochs=num_epochs)"
   ]
  },
  {
   "cell_type": "code",
   "execution_count": null,
   "metadata": {
    "scrolled": true
   },
   "outputs": [],
   "source": [
    "#torch.save(scratch_model,'./models/vision_not_pretrained_resnet18')"
   ]
  },
  {
   "cell_type": "markdown",
   "metadata": {},
   "source": [
    "## Run ResNet implemented by myself"
   ]
  },
  {
   "cell_type": "code",
   "execution_count": null,
   "metadata": {},
   "outputs": [],
   "source": [
    "MyResNet18 = ResNet18(num_classes=5)\n",
    "MyResNet18 = MyResNet18.to(device)"
   ]
  },
  {
   "cell_type": "code",
   "execution_count": null,
   "metadata": {
    "scrolled": true
   },
   "outputs": [],
   "source": [
    "opt_MyResNet18 = optim.SGD(MyResNet18.parameters(), lr=1e-3,weight_decay=5e-4, momentum=0.9)\n",
    "lr_sch = optim.lr_scheduler.ReduceLROnPlateau(opt_MyResNet18)"
   ]
  },
  {
   "cell_type": "code",
   "execution_count": null,
   "metadata": {
    "scrolled": true
   },
   "outputs": [],
   "source": [
    "my_loss_list, my_acc_train_list, my_acc_test_list, best_acc = \\\n",
    "    run(MyResNet18, dataloaders_dict, criterion, optimizer=opt_MyResNet18,\\\n",
    "        scheduler=lr_sch,num_epochs=num_epochs)"
   ]
  },
  {
   "cell_type": "code",
   "execution_count": null,
   "metadata": {},
   "outputs": [],
   "source": [
    "torch.save(MyResNet18,'./models/my_resnet18')\n",
    "torch.save(my_loss_list,'./result_list/my_loss_list_18')\n",
    "torch.save(my_acc_train_list, './result_list/my_acc_train_list_18')\n",
    "torch.save(my_acc_test_list, './result_list/my_acc_test_list_18')"
   ]
  },
  {
   "cell_type": "markdown",
   "metadata": {},
   "source": [
    "## Comparison"
   ]
  },
  {
   "cell_type": "code",
   "execution_count": null,
   "metadata": {},
   "outputs": [],
   "source": [
    "model_ft = torch.load('./models/vision_pretrained_resnet18')\n",
    "pretrained_acc_test_list = torch.load('./result_list/pretrained_acc_test_list')"
   ]
  },
  {
   "cell_type": "code",
   "execution_count": null,
   "metadata": {
    "scrolled": false
   },
   "outputs": [],
   "source": [
    "ohist  = [h.cpu().numpy() for h in pretrained_acc_test_list]\n",
    "#shist  = [h.cpu().numpy() for h in scratch_acc_test_list]\n",
    "myhist = [h.cpu().numpy() for h in my_acc_test_list]\n",
    "\n",
    "plt.figure(figsize=(24,16))\n",
    "plt.title(\"Result Comparison(ResNet18)\")\n",
    "plt.xlabel(\"Training Epochs\")\n",
    "plt.ylabel(\"Validation Accuracy\")\n",
    "plt.plot(range(1,num_epochs+1),ohist,label=\"Pretrained\")\n",
    "#plt.plot(range(1,num_epochs+1),shist,label=\"Scratch\")\n",
    "plt.plot(range(1,num_epochs+1),myhist,label=\"My model\")\n",
    "plt.ylim((0,1.))\n",
    "plt.xticks(np.arange(1, num_epochs+1, 1.0))\n",
    "plt.legend()\n",
    "plt.show()"
   ]
  },
  {
   "cell_type": "markdown",
   "metadata": {},
   "source": [
    "## ResNet 50"
   ]
  },
  {
   "cell_type": "code",
   "execution_count": null,
   "metadata": {},
   "outputs": [],
   "source": [
    "# Initialize the pretrained model for this run\n",
    "model_ft_50, input_size = get_pretrained_model('resnet50', num_classes=5)\n",
    "# Send the model to GPU\n",
    "model_ft_50 = model_ft_50.to(device)"
   ]
  },
  {
   "cell_type": "code",
   "execution_count": null,
   "metadata": {},
   "outputs": [],
   "source": [
    "model_ft_50 = torch.load('./models/vision_pretrained_resnet50')\n",
    "# Send the model to GPU\n",
    "model_ft_50 = model_ft_50.to(device)"
   ]
  },
  {
   "cell_type": "code",
   "execution_count": null,
   "metadata": {},
   "outputs": [],
   "source": [
    "criterion = nn.CrossEntropyLoss()"
   ]
  },
  {
   "cell_type": "code",
   "execution_count": null,
   "metadata": {
    "scrolled": true
   },
   "outputs": [],
   "source": [
    "# Setup optimizer\n",
    "#optimizer_ft = optim.SGD(model_ft.parameters(), lr=1e-3, weight_decay=5e-4, momentum=0.9)\n",
    "\n",
    "# Setup optimizer\n",
    "optimizer_ft_50 = optim.SGD(model_ft_50.parameters(), lr=1e-3, weight_decay=1e-3, momentum=0.9)\n",
    "#optimizer_ft_50 = optim.Adam(model_ft_50.parameters(), lr=1e-3, weight_decay=5e-4)\n",
    "#lr_sch = optim.lr_scheduler.ReduceLROnPlateau(optimizer_ft_50)\n",
    "\n",
    "# Train and evaluate pretrained model\n",
    "pretrained_loss_list_50, pretrained_acc_train_list_50, pretrained_acc_test_list_50 , best_acc= \\\n",
    "    run(model_ft_50, dataloaders_dict, criterion, optimizer=optimizer_ft_50,\\\n",
    "        num_epochs=10, model_path = './models/vision_pretrained_resnet50', best_acc = 0.)"
   ]
  },
  {
   "cell_type": "code",
   "execution_count": null,
   "metadata": {},
   "outputs": [],
   "source": [
    "best_acc"
   ]
  },
  {
   "cell_type": "code",
   "execution_count": null,
   "metadata": {},
   "outputs": [],
   "source": [
    "#torch.save(model_ft_50,'./models/vision_pretrained_resnet50')\n",
    "torch.save(pretrained_loss_list_50,'./result_list/pretrained_loss_list_50')\n",
    "torch.save(pretrained_acc_train_list_50, './result_list/pretrained_acc_train_list_50')\n",
    "torch.save(pretrained_acc_test_list_50, './result_list/pretrained_acc_test_list_50')"
   ]
  },
  {
   "cell_type": "code",
   "execution_count": null,
   "metadata": {},
   "outputs": [],
   "source": []
  },
  {
   "cell_type": "code",
   "execution_count": null,
   "metadata": {
    "scrolled": true
   },
   "outputs": [],
   "source": [
    "MyResNet50 = ResNet50(num_classes=5)\n",
    "MyResNet50 = MyResNet50.to(device)\n",
    "my_loss_list_50, my_acc_train_list_50, my_acc_test_list_50, best_acc = \\\n",
    "    run(MyResNet50, dataloaders_dict, criterion, num_epochs=5)"
   ]
  },
  {
   "cell_type": "code",
   "execution_count": null,
   "metadata": {},
   "outputs": [],
   "source": [
    "torch.save(MyResNet50,'./models/my_resnet50')\n",
    "torch.save(my_loss_list_50,'./result_list/my_loss_list_50')\n",
    "torch.save(my_acc_train_list_50, './result_list/my_acc_train_list_50')\n",
    "torch.save(my_acc_test_list_50, './result_list/my_acc_test_list_50')"
   ]
  },
  {
   "cell_type": "code",
   "execution_count": null,
   "metadata": {},
   "outputs": [],
   "source": []
  },
  {
   "cell_type": "code",
   "execution_count": null,
   "metadata": {},
   "outputs": [],
   "source": []
  },
  {
   "cell_type": "code",
   "execution_count": null,
   "metadata": {
    "scrolled": true
   },
   "outputs": [],
   "source": [
    "MyResNet101 = ResNet101(num_classes=5)\n",
    "MyResNet101 = MyResNet101.to(device)\n",
    "my_loss_list_101, my_acc_train_list_101, my_acc_test_list_101, best_acc = \\\n",
    "    run(MyResNet101, dataloaders_dict, criterion, num_epochs=5)"
   ]
  },
  {
   "cell_type": "code",
   "execution_count": null,
   "metadata": {},
   "outputs": [],
   "source": [
    "torch.save(MyResNet101,'./models/my_resnet101')\n",
    "torch.save(my_loss_list_101,'./result_list/my_loss_list_101')\n",
    "torch.save(my_acc_train_list_101, './result_list/my_acc_train_list_101')\n",
    "torch.save(my_acc_test_list_101, './result_list/my_acc_test_list_101')"
   ]
  },
  {
   "cell_type": "markdown",
   "metadata": {},
   "source": [
    "# Run ResNet152"
   ]
  },
  {
   "cell_type": "markdown",
   "metadata": {},
   "source": [
    "### With pretrained resnet 152"
   ]
  },
  {
   "cell_type": "code",
   "execution_count": 7,
   "metadata": {},
   "outputs": [],
   "source": [
    "pretrained_152 ,_ = get_pretrained_model(model_name='resnet152',num_classes=5)\n",
    "pretrained_152 = pretrained_152.to(device)\n",
    "criterion = nn.CrossEntropyLoss()"
   ]
  },
  {
   "cell_type": "code",
   "execution_count": 12,
   "metadata": {},
   "outputs": [],
   "source": [
    "pretrained_152 = torch.load('./models/vision_pretrained_152')\n",
    "pretrained_152 = pretrained_152.to(device)"
   ]
  },
  {
   "cell_type": "code",
   "execution_count": 16,
   "metadata": {},
   "outputs": [],
   "source": [
    "opt_pretrained_152 = optim.SGD(pretrained_152.parameters(), lr=1e-3,weight_decay=5e-3, momentum=0.9)\n",
    "lr_sch = optim.lr_scheduler.ReduceLROnPlateau(opt_pretrained_152)"
   ]
  },
  {
   "cell_type": "code",
   "execution_count": null,
   "metadata": {},
   "outputs": [
    {
     "name": "stdout",
     "output_type": "stream",
     "text": [
      "Epoch 1/20\n",
      "----------\n",
      "train Loss: 0.5592 Acc: 0.8085\n",
      "train pred_list.value_counts() = \n",
      "0    23967\n",
      "2     3381\n",
      "4      438\n",
      "3      295\n",
      "1       18\n",
      "dtype: int64\n",
      "val Loss: 0.7146 Acc: 0.7640\n",
      "val pred_list.value_counts() = \n",
      "0    5883\n",
      "2     847\n",
      "3     163\n",
      "4     132\n",
      "dtype: int64\n",
      "Epoch 2/20\n",
      "----------\n",
      "train Loss: 0.6342 Acc: 0.7844\n",
      "train pred_list.value_counts() = \n",
      "0    24696\n",
      "2     2824\n",
      "4      325\n",
      "3      253\n",
      "1        1\n",
      "dtype: int64\n",
      "val Loss: 0.7671 Acc: 0.7476\n",
      "val pred_list.value_counts() = \n",
      "0    5639\n",
      "2    1208\n",
      "3     122\n",
      "4      56\n",
      "dtype: int64\n",
      "Epoch 3/20\n",
      "----------\n",
      "train Loss: 0.6889 Acc: 0.7663\n",
      "train pred_list.value_counts() = \n",
      "0    25410\n",
      "2     2266\n",
      "4      256\n",
      "3      167\n",
      "dtype: int64\n",
      "val Loss: 0.7327 Acc: 0.7613\n",
      "val pred_list.value_counts() = \n",
      "0    6444\n",
      "2     501\n",
      "3      47\n",
      "4      33\n",
      "dtype: int64\n",
      "Epoch 4/20\n",
      "----------\n",
      "train Loss: 0.7222 Acc: 0.7574\n",
      "train pred_list.value_counts() = \n",
      "0    25933\n",
      "2     1887\n",
      "4      152\n",
      "3      127\n",
      "dtype: int64\n",
      "val Loss: 0.7382 Acc: 0.7589\n",
      "val pred_list.value_counts() = \n",
      "0    6603\n",
      "2     366\n",
      "3      30\n",
      "4      26\n",
      "dtype: int64\n",
      "Epoch 5/20\n",
      "----------\n",
      "train Loss: 0.7450 Acc: 0.7500\n",
      "train pred_list.value_counts() = \n",
      "0    26319\n",
      "2     1612\n",
      "4      103\n",
      "3       65\n",
      "dtype: int64\n",
      "val Loss: 0.7315 Acc: 0.7606\n",
      "val pred_list.value_counts() = \n",
      "0    6466\n",
      "2     453\n",
      "3      85\n",
      "4      21\n",
      "dtype: int64\n",
      "Epoch 6/20\n",
      "----------\n",
      "train Loss: 0.7579 Acc: 0.7470\n",
      "train pred_list.value_counts() = \n",
      "0    26582\n",
      "2     1443\n",
      "4       43\n",
      "3       31\n",
      "dtype: int64\n",
      "val Loss: 0.8022 Acc: 0.7367\n",
      "val pred_list.value_counts() = \n",
      "0    5890\n",
      "2     964\n",
      "3     165\n",
      "4       6\n",
      "dtype: int64\n",
      "Epoch 7/20\n",
      "----------\n",
      "train Loss: 0.7674 Acc: 0.7444\n",
      "train pred_list.value_counts() = \n",
      "0    26747\n",
      "2     1330\n",
      "3       14\n",
      "4        8\n",
      "dtype: int64\n",
      "val Loss: 0.7578 Acc: 0.7498\n",
      "val pred_list.value_counts() = \n",
      "0    6379\n",
      "2     573\n",
      "3      73\n",
      "dtype: int64\n",
      "Epoch 8/20\n",
      "----------\n",
      "train Loss: 0.7751 Acc: 0.7421\n",
      "train pred_list.value_counts() = \n",
      "0    26976\n",
      "2     1113\n",
      "3        7\n",
      "4        3\n",
      "dtype: int64\n",
      "val Loss: 0.7579 Acc: 0.7488\n",
      "val pred_list.value_counts() = \n",
      "0    6677\n",
      "2     299\n",
      "3      49\n",
      "dtype: int64\n",
      "Epoch 9/20\n",
      "----------\n",
      "train Loss: 0.7841 Acc: 0.7390\n",
      "train pred_list.value_counts() = \n",
      "0    27158\n",
      "2      939\n",
      "4        1\n",
      "3        1\n",
      "dtype: int64\n",
      "val Loss: 0.8027 Acc: 0.7412\n",
      "val pred_list.value_counts() = \n",
      "0    6756\n",
      "2     229\n",
      "3      40\n",
      "dtype: int64\n",
      "Epoch 10/20\n",
      "----------\n",
      "train Loss: 0.7875 Acc: 0.7379\n",
      "train pred_list.value_counts() = \n",
      "0    27310\n",
      "2      789\n",
      "dtype: int64\n",
      "val Loss: 0.7591 Acc: 0.7456\n",
      "val pred_list.value_counts() = \n",
      "0    6706\n",
      "2     289\n",
      "3      30\n",
      "dtype: int64\n",
      "Epoch 11/20\n",
      "----------\n",
      "train Loss: 0.7947 Acc: 0.7369\n",
      "train pred_list.value_counts() = \n",
      "0    27508\n",
      "2      591\n",
      "dtype: int64\n",
      "val Loss: 0.7613 Acc: 0.7452\n",
      "val pred_list.value_counts() = \n",
      "0    6711\n",
      "2     285\n",
      "3      29\n",
      "dtype: int64\n",
      "Epoch 12/20\n",
      "----------\n",
      "train Loss: 0.7918 Acc: 0.7388\n",
      "train pred_list.value_counts() = \n",
      "0    27411\n",
      "2      688\n",
      "dtype: int64\n",
      "val Loss: 0.8017 Acc: 0.7399\n",
      "val pred_list.value_counts() = \n",
      "0    6434\n",
      "2     552\n",
      "3      39\n",
      "dtype: int64\n",
      "Epoch 13/20\n",
      "----------\n",
      "train Loss: 0.7481 Acc: 0.7480\n",
      "train pred_list.value_counts() = \n",
      "0    26758\n",
      "2     1341\n",
      "dtype: int64\n",
      "val Loss: 0.7223 Acc: 0.7527\n",
      "val pred_list.value_counts() = \n",
      "0    6671\n",
      "2     329\n",
      "3      25\n",
      "dtype: int64\n",
      "Epoch 14/20\n",
      "----------\n",
      "train Loss: 0.7275 Acc: 0.7557\n",
      "train pred_list.value_counts() = \n",
      "0    26129\n",
      "2     1970\n",
      "dtype: int64\n",
      "val Loss: 0.7065 Acc: 0.7599\n",
      "val pred_list.value_counts() = \n",
      "0    6562\n",
      "2     443\n",
      "3      20\n",
      "dtype: int64\n",
      "Epoch 15/20\n",
      "----------\n"
     ]
    }
   ],
   "source": [
    "pretrained_loss_list_152, pretrained_acc_train_list_152, pretrained_acc_test_list_152, best_acc = \\\n",
    "    run(pretrained_152, dataloaders_dict, criterion,optimizer=opt_pretrained_152\\\n",
    "        , scheduler=lr_sch, num_epochs=20, model_path = './models/vision_pretrained_152', best_acc = 0.7805)"
   ]
  },
  {
   "cell_type": "code",
   "execution_count": 27,
   "metadata": {},
   "outputs": [
    {
     "data": {
      "text/plain": [
       "tensor(0.7611, device='cuda:0', dtype=torch.float64)"
      ]
     },
     "execution_count": 27,
     "metadata": {},
     "output_type": "execute_result"
    }
   ],
   "source": [
    "best_acc"
   ]
  },
  {
   "cell_type": "code",
   "execution_count": 14,
   "metadata": {},
   "outputs": [],
   "source": [
    "#torch.save(pretrained_152,'./models/vision_pretrained_152')\n",
    "torch.save(pretrained_loss_list_152,'./result_list/pretrained_loss_list_152')\n",
    "torch.save(pretrained_acc_train_list_152, './result_list/pretrained_acc_train_list_152')\n",
    "torch.save(pretrained_acc_test_list_152, './result_list/pretrained_acc_test_list_152')"
   ]
  },
  {
   "cell_type": "code",
   "execution_count": null,
   "metadata": {},
   "outputs": [],
   "source": []
  },
  {
   "cell_type": "code",
   "execution_count": null,
   "metadata": {},
   "outputs": [],
   "source": []
  },
  {
   "cell_type": "code",
   "execution_count": null,
   "metadata": {},
   "outputs": [],
   "source": [
    "MyResNet152 = ResNet152(num_classes=5)\n",
    "opt_MyResNet152 = optim.SGD(MyResNet152.parameters(), lr=1e-2,weight_decay=5e-3, momentum=0.9)\n",
    "lr_sch = optim.lr_scheduler.ReduceLROnPlateau(opt_MyResNet152)\n",
    "MyResNet152 = MyResNet152.to(device)\n",
    "#print(MyResNet152)"
   ]
  },
  {
   "cell_type": "code",
   "execution_count": null,
   "metadata": {
    "scrolled": true
   },
   "outputs": [],
   "source": [
    "my_loss_list_152, my_acc_train_list_152, my_acc_test_list_152 , best_acc= \\\n",
    "    run(MyResNet152, dataloaders_dict, criterion, optimizer=opt_MyResNet152,scheduler=lr_sch,\\\n",
    "        num_epochs=5)"
   ]
  },
  {
   "cell_type": "code",
   "execution_count": null,
   "metadata": {},
   "outputs": [],
   "source": [
    "torch.save(MyResNet152,'./models/my_resnet152')\n",
    "torch.save(my_loss_list_152,'./result_list/my_loss_list_152')\n",
    "torch.save(my_acc_train_list_152, './result_list/my_acc_train_list_152')\n",
    "torch.save(my_acc_test_list_152, './result_list/my_acc_test_list_152')"
   ]
  }
 ],
 "metadata": {
  "kernelspec": {
   "display_name": "Python 3",
   "language": "python",
   "name": "python3"
  },
  "language_info": {
   "codemirror_mode": {
    "name": "ipython",
    "version": 3
   },
   "file_extension": ".py",
   "mimetype": "text/x-python",
   "name": "python",
   "nbconvert_exporter": "python",
   "pygments_lexer": "ipython3",
   "version": "3.6.9"
  }
 },
 "nbformat": 4,
 "nbformat_minor": 2
}
