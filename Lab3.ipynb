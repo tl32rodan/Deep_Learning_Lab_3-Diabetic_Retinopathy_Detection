{
 "cells": [
  {
   "cell_type": "code",
   "execution_count": 5,
   "metadata": {
    "scrolled": true
   },
   "outputs": [
    {
     "name": "stdout",
     "output_type": "stream",
     "text": [
      "PyTorch Version:  1.4.0\n",
      "Torchvision Version:  0.5.0\n"
     ]
    }
   ],
   "source": [
    "from __future__ import print_function \n",
    "from __future__ import division\n",
    "import torch\n",
    "import torch.nn as nn\n",
    "import torch.optim as optim\n",
    "from torch.utils import data\n",
    "from ResNet import *\n",
    "from run_model import *\n",
    "\n",
    "import time\n",
    "import os\n",
    "import copy\n",
    "import pandas as pd\n",
    "import numpy as np\n",
    "import matplotlib.pyplot as plt\n",
    "import torchvision\n",
    "from torchvision import datasets, models, transforms\n",
    "from collections import OrderedDict\n",
    "from PIL import Image\n",
    "print(\"PyTorch Version: \",torch.__version__)\n",
    "print(\"Torchvision Version: \",torchvision.__version__)"
   ]
  },
  {
   "cell_type": "code",
   "execution_count": 6,
   "metadata": {
    "scrolled": true
   },
   "outputs": [],
   "source": [
    "from dataloader import RetinopathyLoader"
   ]
  },
  {
   "cell_type": "code",
   "execution_count": 7,
   "metadata": {
    "scrolled": true
   },
   "outputs": [
    {
     "name": "stdout",
     "output_type": "stream",
     "text": [
      "> Found 28099 images...\n",
      "> Found 7025 images...\n"
     ]
    }
   ],
   "source": [
    "train_set = RetinopathyLoader(root='./data/',mode='train')\n",
    "train_loader = data.DataLoader(dataset=train_set,batch_size=4)\n",
    "test_set = RetinopathyLoader(root='./data/',mode='test')\n",
    "test_loader = data.DataLoader(dataset=test_set,batch_size=4)\n",
    "\n",
    "dataloaders_dict = {'train':train_loader,\n",
    "                    'val' : test_loader}"
   ]
  },
  {
   "cell_type": "code",
   "execution_count": 8,
   "metadata": {
    "scrolled": true
   },
   "outputs": [
    {
     "data": {
      "text/plain": [
       "device(type='cuda', index=0)"
      ]
     },
     "execution_count": 8,
     "metadata": {},
     "output_type": "execute_result"
    }
   ],
   "source": [
    "device = torch.device(\"cuda:0\" if torch.cuda.is_available() else \"cpu\")\n",
    "device"
   ]
  },
  {
   "cell_type": "code",
   "execution_count": 9,
   "metadata": {
    "scrolled": true
   },
   "outputs": [],
   "source": [
    "# Models to choose from [resnet, alexnet, vgg, squeezenet, densenet, inception]\n",
    "model_name = \"resnet18\"\n",
    "\n",
    "# Number of classes in the dataset\n",
    "num_classes = 5\n",
    "\n",
    "# Batch size for training (change depending on how much memory you have)\n",
    "batch_size = 1\n",
    "\n",
    "# Number of epochs to train for \n",
    "num_epochs = 10\n",
    "\n",
    "# Setup the loss fxn\n",
    "criterion = nn.CrossEntropyLoss()"
   ]
  },
  {
   "cell_type": "code",
   "execution_count": 10,
   "metadata": {
    "scrolled": true
   },
   "outputs": [],
   "source": [
    "def get_pretrained_model(model_name, num_classes,use_pretrained=True):\n",
    "    model_dict = {\n",
    "        'resnet18':  models.resnet18,\n",
    "        'resnet34':  models.resnet34,\n",
    "        'resnet50':  models.resnet50,\n",
    "        'resnet101': models.resnet101,\n",
    "        'resnet152': models.resnet152\n",
    "    }\n",
    "    \n",
    "    model_ft = model_dict[model_name](pretrained=use_pretrained)          \n",
    "    num_ftrs = model_ft.fc.in_features\n",
    "    model_ft.fc = nn.Linear(num_ftrs, num_classes)\n",
    "    input_size = 224\n",
    "    \n",
    "    return model_ft, input_size"
   ]
  },
  {
   "cell_type": "markdown",
   "metadata": {},
   "source": [
    "## Run ResNet pretrained model which is from `torchvision`"
   ]
  },
  {
   "cell_type": "code",
   "execution_count": 7,
   "metadata": {
    "scrolled": true
   },
   "outputs": [
    {
     "name": "stdout",
     "output_type": "stream",
     "text": [
      "Epoch 1/10\n",
      "----------\n",
      "train Loss: 0.7780 Acc: 0.7416\n",
      "val Loss: 0.6991 Acc: 0.7577\n",
      "Epoch 2/10\n",
      "----------\n",
      "train Loss: 0.6484 Acc: 0.7797\n",
      "val Loss: 0.6766 Acc: 0.7741\n",
      "Epoch 3/10\n",
      "----------\n",
      "train Loss: 0.5958 Acc: 0.7985\n",
      "val Loss: 0.6435 Acc: 0.7900\n",
      "Epoch 4/10\n",
      "----------\n",
      "train Loss: 0.5552 Acc: 0.8114\n",
      "val Loss: 0.6063 Acc: 0.7984\n",
      "Epoch 5/10\n",
      "----------\n",
      "train Loss: 0.5166 Acc: 0.8232\n",
      "val Loss: 0.5972 Acc: 0.8040\n",
      "Epoch 6/10\n",
      "----------\n",
      "train Loss: 0.4698 Acc: 0.8385\n",
      "val Loss: 0.6039 Acc: 0.8009\n",
      "Epoch 7/10\n",
      "----------\n",
      "train Loss: 0.4201 Acc: 0.8529\n",
      "val Loss: 0.6386 Acc: 0.7994\n",
      "Epoch 8/10\n",
      "----------\n",
      "train Loss: 0.3673 Acc: 0.8696\n",
      "val Loss: 0.6942 Acc: 0.7927\n",
      "Epoch 9/10\n",
      "----------\n",
      "train Loss: 0.3028 Acc: 0.8925\n",
      "val Loss: 0.7144 Acc: 0.7949\n",
      "Epoch 10/10\n",
      "----------\n",
      "train Loss: 0.2363 Acc: 0.9175\n",
      "val Loss: 0.8592 Acc: 0.7284\n"
     ]
    }
   ],
   "source": [
    "# Initialize the pretrained model for this run\n",
    "model_ft, input_size = get_pretrained_model(model_name, num_classes=5)\n",
    "\n",
    "\n",
    "# Setup optimizer\n",
    "#optimizer_ft = optim.SGD(model_ft.parameters(), lr=1e-3, weight_decay=5e-4, momentum=0.9)\n",
    "\n",
    "# Send the model to GPU\n",
    "model_ft = model_ft.to(device)\n",
    "\n",
    "# Train and evaluate pretrained model\n",
    "pretrained_loss_list, pretrained_acc_train_list, pretrained_acc_test_list = \\\n",
    "    run(model_ft, dataloaders_dict, criterion, num_epochs=num_epochs)"
   ]
  },
  {
   "cell_type": "code",
   "execution_count": 10,
   "metadata": {
    "scrolled": true
   },
   "outputs": [
    {
     "name": "stderr",
     "output_type": "stream",
     "text": [
      "/opt/conda/lib/python3.6/site-packages/torch/serialization.py:293: UserWarning: Couldn't retrieve source code for container of type ResNet. It won't be checked for correctness upon loading.\n",
      "  \"type \" + obj.__name__ + \". It won't be checked \"\n",
      "/opt/conda/lib/python3.6/site-packages/torch/serialization.py:293: UserWarning: Couldn't retrieve source code for container of type Conv2d. It won't be checked for correctness upon loading.\n",
      "  \"type \" + obj.__name__ + \". It won't be checked \"\n",
      "/opt/conda/lib/python3.6/site-packages/torch/serialization.py:293: UserWarning: Couldn't retrieve source code for container of type BatchNorm2d. It won't be checked for correctness upon loading.\n",
      "  \"type \" + obj.__name__ + \". It won't be checked \"\n",
      "/opt/conda/lib/python3.6/site-packages/torch/serialization.py:293: UserWarning: Couldn't retrieve source code for container of type ReLU. It won't be checked for correctness upon loading.\n",
      "  \"type \" + obj.__name__ + \". It won't be checked \"\n",
      "/opt/conda/lib/python3.6/site-packages/torch/serialization.py:293: UserWarning: Couldn't retrieve source code for container of type MaxPool2d. It won't be checked for correctness upon loading.\n",
      "  \"type \" + obj.__name__ + \". It won't be checked \"\n",
      "/opt/conda/lib/python3.6/site-packages/torch/serialization.py:293: UserWarning: Couldn't retrieve source code for container of type Sequential. It won't be checked for correctness upon loading.\n",
      "  \"type \" + obj.__name__ + \". It won't be checked \"\n",
      "/opt/conda/lib/python3.6/site-packages/torch/serialization.py:293: UserWarning: Couldn't retrieve source code for container of type BasicBlock. It won't be checked for correctness upon loading.\n",
      "  \"type \" + obj.__name__ + \". It won't be checked \"\n",
      "/opt/conda/lib/python3.6/site-packages/torch/serialization.py:293: UserWarning: Couldn't retrieve source code for container of type AdaptiveAvgPool2d. It won't be checked for correctness upon loading.\n",
      "  \"type \" + obj.__name__ + \". It won't be checked \"\n",
      "/opt/conda/lib/python3.6/site-packages/torch/serialization.py:293: UserWarning: Couldn't retrieve source code for container of type Linear. It won't be checked for correctness upon loading.\n",
      "  \"type \" + obj.__name__ + \". It won't be checked \"\n"
     ]
    }
   ],
   "source": [
    "torch.save(model_ft,'./models/vision_pretrained_resnet18')\n",
    "torch.save(pretrained_loss_list,'./result_list/pretrained_loss_list')\n",
    "torch.save(pretrained_acc_train_list, './result_list/pretrained_acc_train_list')\n",
    "torch.save(pretrained_acc_test_list, './result_list/pretrained_acc_test_list')"
   ]
  },
  {
   "cell_type": "markdown",
   "metadata": {},
   "source": [
    "## Run ResNet model (no pretrained) which is from `torchvision`"
   ]
  },
  {
   "cell_type": "code",
   "execution_count": null,
   "metadata": {
    "scrolled": true
   },
   "outputs": [],
   "source": [
    "# Initialize the non-pretrained version of the model used for this run\n",
    "scratch_model,_ = get_pretrained_model(model_name, num_classes=5, use_pretrained=False)\n",
    "scratch_model = scratch_model.to(device)\n",
    "scratch_loss_list, scratch_acc_train_list, scratch_acc_test_list = \\\n",
    "    run(scratch_model, dataloaders_dict, criterion, num_epochs=num_epochs)"
   ]
  },
  {
   "cell_type": "code",
   "execution_count": null,
   "metadata": {
    "scrolled": true
   },
   "outputs": [],
   "source": [
    "torch.save(scratch_model,'./models/vision_not_pretrained_resnet18')"
   ]
  },
  {
   "cell_type": "markdown",
   "metadata": {},
   "source": [
    "## Run ResNet implemented by myself"
   ]
  },
  {
   "cell_type": "code",
   "execution_count": 11,
   "metadata": {
    "scrolled": true
   },
   "outputs": [],
   "source": [
    "MyResNet = ResNet18(num_classes=5)\n",
    "MyResNet = MyResNet.to(device)"
   ]
  },
  {
   "cell_type": "code",
   "execution_count": 23,
   "metadata": {
    "scrolled": false
   },
   "outputs": [
    {
     "name": "stdout",
     "output_type": "stream",
     "text": [
      "Epoch 1/10\n",
      "----------\n"
     ]
    },
    {
     "ename": "KeyboardInterrupt",
     "evalue": "",
     "output_type": "error",
     "traceback": [
      "\u001b[0;31m---------------------------------------------------------------------------\u001b[0m",
      "\u001b[0;31mKeyboardInterrupt\u001b[0m                         Traceback (most recent call last)",
      "\u001b[0;32m<ipython-input-23-2c15a6f1e3ae>\u001b[0m in \u001b[0;36m<module>\u001b[0;34m\u001b[0m\n\u001b[1;32m      1\u001b[0m \u001b[0;31m############# ! CUDA ##############\u001b[0m\u001b[0;34m\u001b[0m\u001b[0;34m\u001b[0m\u001b[0;34m\u001b[0m\u001b[0m\n\u001b[1;32m      2\u001b[0m \u001b[0mmy_loss_list\u001b[0m\u001b[0;34m,\u001b[0m \u001b[0mmy_acc_train_list\u001b[0m\u001b[0;34m,\u001b[0m \u001b[0mmy_acc_test_list\u001b[0m \u001b[0;34m=\u001b[0m\u001b[0;31m \u001b[0m\u001b[0;31m\\\u001b[0m\u001b[0;34m\u001b[0m\u001b[0;34m\u001b[0m\u001b[0m\n\u001b[0;32m----> 3\u001b[0;31m     \u001b[0mrun\u001b[0m\u001b[0;34m(\u001b[0m\u001b[0mMyResNet\u001b[0m\u001b[0;34m,\u001b[0m \u001b[0mdataloaders_dict\u001b[0m\u001b[0;34m,\u001b[0m \u001b[0mcriterion\u001b[0m\u001b[0;34m,\u001b[0m \u001b[0mnum_epochs\u001b[0m\u001b[0;34m=\u001b[0m\u001b[0mnum_epochs\u001b[0m\u001b[0;34m)\u001b[0m\u001b[0;34m\u001b[0m\u001b[0;34m\u001b[0m\u001b[0m\n\u001b[0m",
      "\u001b[0;32m~/Lab3/run_model.py\u001b[0m in \u001b[0;36mrun\u001b[0;34m(model, dataloaders, criterion, optimizer, scheduler, num_epochs, print_freq)\u001b[0m\n\u001b[1;32m     48\u001b[0m             \u001b[0;32mfor\u001b[0m \u001b[0mx\u001b[0m\u001b[0;34m,\u001b[0m \u001b[0my\u001b[0m \u001b[0;32min\u001b[0m \u001b[0mdataloaders\u001b[0m\u001b[0;34m[\u001b[0m\u001b[0mphase\u001b[0m\u001b[0;34m]\u001b[0m\u001b[0;34m:\u001b[0m\u001b[0;34m\u001b[0m\u001b[0;34m\u001b[0m\u001b[0m\n\u001b[1;32m     49\u001b[0m                 \u001b[0mx\u001b[0m \u001b[0;34m=\u001b[0m \u001b[0mx\u001b[0m\u001b[0;34m.\u001b[0m\u001b[0mto\u001b[0m\u001b[0;34m(\u001b[0m\u001b[0mdevice\u001b[0m\u001b[0;34m)\u001b[0m\u001b[0;34m\u001b[0m\u001b[0;34m\u001b[0m\u001b[0m\n\u001b[0;32m---> 50\u001b[0;31m                 \u001b[0my\u001b[0m \u001b[0;34m=\u001b[0m \u001b[0my\u001b[0m\u001b[0;34m.\u001b[0m\u001b[0mto\u001b[0m\u001b[0;34m(\u001b[0m\u001b[0mdevice\u001b[0m\u001b[0;34m)\u001b[0m\u001b[0;34m\u001b[0m\u001b[0;34m\u001b[0m\u001b[0m\n\u001b[0m\u001b[1;32m     51\u001b[0m \u001b[0;34m\u001b[0m\u001b[0m\n\u001b[1;32m     52\u001b[0m                 \u001b[0moptimizer\u001b[0m\u001b[0;34m.\u001b[0m\u001b[0mzero_grad\u001b[0m\u001b[0;34m(\u001b[0m\u001b[0;34m)\u001b[0m\u001b[0;34m\u001b[0m\u001b[0;34m\u001b[0m\u001b[0m\n",
      "\u001b[0;31mKeyboardInterrupt\u001b[0m: "
     ]
    }
   ],
   "source": [
    "############# ! CUDA ##############\n",
    "my_loss_list, my_acc_train_list, my_acc_test_list = \\\n",
    "    run(MyResNet, dataloaders_dict, criterion, num_epochs=num_epochs)\n"
   ]
  },
  {
   "cell_type": "code",
   "execution_count": null,
   "metadata": {},
   "outputs": [],
   "source": [
    "\n",
    "torch.save(MyResNet,'./models/my_resnet18')50\n",
    "torch.save(my_loss_list,'./result_list/my_loss_list_18')\n",
    "torch.save(my_acc_train_list, './result_list/my_acc_train_list_18')\n",
    "torch.save(my_acc_test_list, './result_list/my_acc_test_list_18')"
   ]
  },
  {
   "cell_type": "markdown",
   "metadata": {},
   "source": [
    "## Comparison"
   ]
  },
  {
   "cell_type": "code",
   "execution_count": null,
   "metadata": {
    "scrolled": true
   },
   "outputs": [],
   "source": [
    "ohist  = [h.cpu().numpy() for h in pretrained_acc_test_list]\n",
    "#shist  = [h.cpu().numpy() for h in scratch_acc_test_list]\n",
    "myhist = [h.cpu().numpy() for h in my_acc_test_list]\n",
    "\n",
    "plt.title(\"Validation Accuracy vs. Number of Training Epochs\")\n",
    "plt.xlabel(\"Training Epochs\")\n",
    "plt.ylabel(\"Validation Accuracy\")\n",
    "plt.plot(range(1,num_epochs+1),ohist,label=\"Pretrained\")\n",
    "#plt.plot(range(1,num_epochs+1),shist,label=\"Scratch\")\n",
    "plt.plot(range(1,num_epochs+1),myhist,label=\"My model\")\n",
    "plt.ylim((0,1.))\n",
    "plt.xticks(np.arange(1, num_epochs+1, 1.0))\n",
    "plt.legend()\n",
    "plt.show()"
   ]
  },
  {
   "cell_type": "markdown",
   "metadata": {},
   "source": [
    "## ResNet 50"
   ]
  },
  {
   "cell_type": "code",
   "execution_count": null,
   "metadata": {},
   "outputs": [],
   "source": [
    "# Initialize the pretrained model for this run\n",
    "model_ft_50, input_size = get_pretrained_model('resnet50', num_classes=5)\n",
    "\n",
    "\n",
    "# Setup optimizer\n",
    "#optimizer_ft = optim.SGD(model_ft.parameters(), lr=1e-3, weight_decay=5e-4, momentum=0.9)\n",
    "\n",
    "# Send the model to GPU\n",
    "model_ft_50 = model_ft_50.to(device)\n",
    "\n",
    "# Train and evaluate pretrained model\n",
    "pretrained_loss_list_50, pretrained_acc_train_list_50, pretrained_acc_test_list_50 = \\\n",
    "    run(model_ft_50, dataloaders_dict, criterion, num_epochs=5)"
   ]
  },
  {
   "cell_type": "code",
   "execution_count": null,
   "metadata": {},
   "outputs": [],
   "source": [
    "torch.save(model_ft_50,'./models/vision_pretrained_resnet50')\n",
    "torch.save(pretrained_loss_list_50,'./result_list/pretrained_loss_list_50')\n",
    "torch.save(pretrained_acc_train_list_50, './result_list/pretrained_acc_train_list_50')\n",
    "torch.save(pretrained_acc_test_list_50, './result_list/pretrained_acc_test_list_50')"
   ]
  },
  {
   "cell_type": "code",
   "execution_count": null,
   "metadata": {},
   "outputs": [],
   "source": []
  },
  {
   "cell_type": "code",
   "execution_count": null,
   "metadata": {
    "scrolled": true
   },
   "outputs": [],
   "source": [
    "MyResNet50 = ResNet50(num_classes=5)\n",
    "MyResNet50 = MyResNet50.to(device)\n",
    "my_loss_list_50, my_acc_train_list_50, my_acc_test_list_50 = \\\n",
    "    run(MyResNet50, dataloaders_dict, criterion, num_epochs=5)"
   ]
  },
  {
   "cell_type": "code",
   "execution_count": null,
   "metadata": {},
   "outputs": [],
   "source": [
    "torch.save(MyResNet50,'./models/my_resnet50')\n",
    "torch.save(my_loss_list_50,'./result_list/my_loss_list_50')\n",
    "torch.save(my_acc_train_list_50, './result_list/my_acc_train_list_50')\n",
    "torch.save(my_acc_test_list_50, './result_list/my_acc_test_list_50')"
   ]
  },
  {
   "cell_type": "code",
   "execution_count": null,
   "metadata": {},
   "outputs": [],
   "source": []
  },
  {
   "cell_type": "code",
   "execution_count": null,
   "metadata": {},
   "outputs": [],
   "source": []
  },
  {
   "cell_type": "code",
   "execution_count": null,
   "metadata": {
    "scrolled": true
   },
   "outputs": [],
   "source": [
    "MyResNet101 = ResNet101(num_classes=5)\n",
    "MyResNet101 = MyResNet101.to(device)\n",
    "my_loss_list_101, my_acc_train_list_101, my_acc_test_list_101 = \\\n",
    "    run(MyResNet101, dataloaders_dict, criterion, num_epochs=num_epochs)"
   ]
  },
  {
   "cell_type": "code",
   "execution_count": null,
   "metadata": {
    "scrolled": true
   },
   "outputs": [],
   "source": [
    "MyResNet152 = ResNet152(num_classes=5)\n",
    "MyResNet152 = MyResNet152.to(device)\n",
    "my_loss_list_152, my_acc_train_list_152, my_acc_test_list_152 = \\\n",
    "    run(MyResNet15, dataloaders_dict, criterion, num_epochs=num_epochs)"
   ]
  },
  {
   "cell_type": "code",
   "execution_count": null,
   "metadata": {
    "scrolled": true
   },
   "outputs": [],
   "source": [
    "def count_parameters(model):\n",
    "    return sum(p.numel() for p in model.parameters() if p.requires_grad)"
   ]
  },
  {
   "cell_type": "code",
   "execution_count": null,
   "metadata": {},
   "outputs": [],
   "source": []
  }
 ],
 "metadata": {
  "kernelspec": {
   "display_name": "Python 3",
   "language": "python",
   "name": "python3"
  },
  "language_info": {
   "codemirror_mode": {
    "name": "ipython",
    "version": 3
   },
   "file_extension": ".py",
   "mimetype": "text/x-python",
   "name": "python",
   "nbconvert_exporter": "python",
   "pygments_lexer": "ipython3",
   "version": "3.8.3"
  }
 },
 "nbformat": 4,
 "nbformat_minor": 2
}
